{
 "cells": [
  {
   "cell_type": "code",
   "execution_count": 5,
   "id": "5227ea87",
   "metadata": {},
   "outputs": [
    {
     "name": "stdout",
     "output_type": "stream",
     "text": [
      "DEM 'DEM1' 已生成，解析度為 0.001 m/pix\n",
      "DEM 'DEM5' 已生成，解析度為 0.005 m/pix\n"
     ]
    }
   ],
   "source": [
    "import Metashape\n",
    "\n",
    "# 打開特定的Metashape工程文件\n",
    "doc = Metashape.Document()\n",
    "doc.open(r\"G:\\island\\2023_11\\lagoon_1\\metashape_files\\rr-lagoon_1-2023_11.psx\")  # 替換為你的工程文件的實際路徑\n",
    "\n",
    "# 確認文檔中是否有chunk\n",
    "if len(doc.chunks) == 0:\n",
    "    raise ValueError(\"文檔中沒有可用的chunk，請檢查你的工程文件。\")\n",
    "\n",
    "chunk = doc.chunk  # 獲取當前激活的chunk\n",
    "\n",
    "# 定義DEM解析度和對應的名稱\n",
    "resolutions = [0.001, 0.005]  # 解析度 (m/pix)\n",
    "names = [\"DEM1\", \"DEM5\"]  # 對應的名稱\n",
    "\n",
    "# 遍歷每個解析度，生成DEM並保存\n",
    "for i, resolution in enumerate(resolutions):\n",
    "    # 刪除現有的DEM，避免重疊或覆蓋\n",
    "    if chunk.elevation:\n",
    "        chunk.elevation = None\n",
    "\n",
    "    # 解析度轉換為浮點數\n",
    "    resolution_in_meters = float(resolution)\n",
    "\n",
    "    # 使用 buildDem 生成 DEM，不傳遞可選參數\n",
    "    chunk.buildDem(resolution=resolution_in_meters)\n",
    "    \n",
    "    # 設置 DEM 的名稱\n",
    "    dem = chunk.elevation\n",
    "    dem.label = names[i]\n",
    "\n",
    "    print(f\"DEM '{names[i]}' 已生成，解析度為 {resolution} m/pix\")\n",
    "\n",
    "# 保存文檔\n",
    "doc.save()\n"
   ]
  },
  {
   "cell_type": "code",
   "execution_count": 20,
   "id": "de1be070",
   "metadata": {},
   "outputs": [
    {
     "name": "stdout",
     "output_type": "stream",
     "text": [
      "DEM 'DEM1' 已導出，解析度為 0.001 m/pix，保存於 G:\\island\\2023_11\\lagoon_1\\outputs/DEM1.tif\n",
      "DEM 'DEM2' 已導出，解析度為 0.002 m/pix，保存於 G:\\island\\2023_11\\lagoon_1\\outputs/DEM2.tif\n",
      "DEM 'DEM3' 已導出，解析度為 0.003 m/pix，保存於 G:\\island\\2023_11\\lagoon_1\\outputs/DEM3.tif\n",
      "DEM 'DEM4' 已導出，解析度為 0.004 m/pix，保存於 G:\\island\\2023_11\\lagoon_1\\outputs/DEM4.tif\n",
      "DEM 'DEM5' 已導出，解析度為 0.005 m/pix，保存於 G:\\island\\2023_11\\lagoon_1\\outputs/DEM5.tif\n",
      "DEM 'DEM6' 已導出，解析度為 0.006 m/pix，保存於 G:\\island\\2023_11\\lagoon_1\\outputs/DEM6.tif\n",
      "DEM 'DEM7' 已導出，解析度為 0.007 m/pix，保存於 G:\\island\\2023_11\\lagoon_1\\outputs/DEM7.tif\n",
      "DEM 'DEM8' 已導出，解析度為 0.008 m/pix，保存於 G:\\island\\2023_11\\lagoon_1\\outputs/DEM8.tif\n",
      "DEM 'DEM9' 已導出，解析度為 0.009 m/pix，保存於 G:\\island\\2023_11\\lagoon_1\\outputs/DEM9.tif\n",
      "DEM 'DEM10' 已導出，解析度為 0.01 m/pix，保存於 G:\\island\\2023_11\\lagoon_1\\outputs/DEM10.tif\n",
      "DEM 'DEM15' 已導出，解析度為 0.015 m/pix，保存於 G:\\island\\2023_11\\lagoon_1\\outputs/DEM15.tif\n",
      "DEM 'DEM20' 已導出，解析度為 0.02 m/pix，保存於 G:\\island\\2023_11\\lagoon_1\\outputs/DEM20.tif\n"
     ]
    }
   ],
   "source": [
    "import Metashape\n",
    "\n",
    "# 定义输出目录\n",
    "output_dir = r\"G:\\island\\2023_11\\lagoon_1\\outputs\"\n",
    "# 定義 UTM Zone 55S (EPSG:32755) 投影\n",
    "utm_projection = Metashape.OrthoProjection()\n",
    "utm_projection.crs = Metashape.CoordinateSystem(\"EPSG::32755\")\n",
    "\n",
    "# 打開特定的Metashape工程文件\n",
    "doc = Metashape.Document()\n",
    "doc.open(r\"G:\\island\\2023_11\\lagoon_1\\metashape_files\\rr-lagoon_1-2023_11.psx\")  # 替換為你的工程文件的實際路徑\n",
    "\n",
    "# 確認文檔中是否有chunk\n",
    "if len(doc.chunks) == 0:\n",
    "    raise ValueError(\"文檔中沒有可用的chunk，請檢查你的工程文件。\")\n",
    "\n",
    "chunk = doc.chunk  # 獲取當前激活的chunk\n",
    "\n",
    "# 確認 DEM 是否存在\n",
    "if not chunk.elevation:\n",
    "    raise RuntimeError(\"未找到現成的DEM，請檢查工程文件。\")\n",
    "\n",
    "# 定義DEM解析度和對應的名稱\n",
    "resolutions = [0.001,0.002,0.003,0.004,0.005,0.006,0.007,0.008,0.009,0.010,0.015,0.020]  # 解析度 (m/pix)\n",
    "names = [\"DEM1\",\"DEM2\",\"DEM3\",\"DEM4\",\"DEM5\",\"DEM6\",\"DEM7\",\"DEM8\",\"DEM9\",\"DEM10\",\"DEM15\",\"DEM20\"]  # 對應的名稱\n",
    "\n",
    "# 遍歷每個解析度，調整並保存DEM\n",
    "for i, resolution in enumerate(resolutions):\n",
    "    # 定义输出文件路径，使用绝对路径\n",
    "    output_path = f\"{output_dir}/{names[i]}.tif\"\n",
    "\n",
    "    # 导出 DEM 并设置解析度\n",
    "    chunk.exportRaster(\n",
    "        path=output_path,\n",
    "        source_data=Metashape.DataSource.ElevationData,\n",
    "        image_format=Metashape.ImageFormatTIFF,\n",
    "        raster_transform=Metashape.RasterTransformNone,\n",
    "        nodata_value=-32767,\n",
    "        resolution=resolution,\n",
    "        projection=utm_projection  # UTM Zone 55S\n",
    "    )\n",
    "\n",
    "    print(f\"DEM '{names[i]}' 已導出，解析度為 {resolution} m/pix，保存於 {output_path}\")\n"
   ]
  },
  {
   "cell_type": "code",
   "execution_count": null,
   "id": "66925ba6",
   "metadata": {},
   "outputs": [],
   "source": [
    "!git add .\n",
    "!git commit -m \"add works in metashape\"\n",
    "!git push origin main"
   ]
  }
 ],
 "metadata": {
  "kernelspec": {
   "display_name": "Python 3 (ipykernel)",
   "language": "python",
   "name": "python3"
  },
  "language_info": {
   "codemirror_mode": {
    "name": "ipython",
    "version": 3
   },
   "file_extension": ".py",
   "mimetype": "text/x-python",
   "name": "python",
   "nbconvert_exporter": "python",
   "pygments_lexer": "ipython3",
   "version": "3.10.9"
  }
 },
 "nbformat": 4,
 "nbformat_minor": 5
}
